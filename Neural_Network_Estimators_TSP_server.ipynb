{
 "cells": [
  {
   "cell_type": "markdown",
   "id": "9ba2614e",
   "metadata": {},
   "source": [
    "# install  python package\n",
    "pip install elkai pandas numpy matplotlib tqdm torch"
   ]
  },
  {
   "cell_type": "markdown",
   "id": "00f40a9d-5730-4ae8-bd05-8aee888af33e",
   "metadata": {},
   "source": [
    "# 1 Base function\n",
    "## 1.1 TSP solver - LKH"
   ]
  },
  {
   "cell_type": "code",
   "execution_count": 1,
   "id": "7bae169c",
   "metadata": {},
   "outputs": [
    {
     "name": "stdout",
     "output_type": "stream",
     "text": [
      "[0, 1, 2, 0]\n"
     ]
    }
   ],
   "source": [
    "import elkai\n",
    "\n",
    "cities_dict = {\n",
    "    0: (0, 27),\n",
    "    1: (4, 27),\n",
    "    2: (65, 44),\n",
    "}\n",
    "cities = elkai.Coordinates2D(cities_dict)\n",
    "print(cities.solve_tsp())"
   ]
  },
  {
   "cell_type": "markdown",
   "id": "0b6ecc48",
   "metadata": {},
   "source": [
    "# 1.2 instance generation # node = 10"
   ]
  },
  {
   "cell_type": "code",
   "execution_count": 2,
   "id": "34af0869",
   "metadata": {},
   "outputs": [],
   "source": [
    "import random\n",
    "import pandas as pd\n",
    "\n",
    "\n",
    "def instance_generate(n, grid_x, grid_y):\n",
    "    index_list = list(range(grid_x * grid_y))\n",
    "    nodes_index = random.sample(index_list, n)\n",
    "    return nodes_index"
   ]
  },
  {
   "cell_type": "code",
   "execution_count": 3,
   "id": "bdaab28c",
   "metadata": {},
   "outputs": [
    {
     "name": "stdout",
     "output_type": "stream",
     "text": [
      "[23, 57, 163, 31, 150, 114, 290, 299, 112, 237]\n"
     ]
    }
   ],
   "source": [
    "nodes_index = instance_generate(10, 20, 20)\n",
    "print(nodes_index)"
   ]
  },
  {
   "cell_type": "markdown",
   "id": "ec2d490f",
   "metadata": {},
   "source": [
    "## 1.3 数据格式转换"
   ]
  },
  {
   "cell_type": "code",
   "execution_count": 4,
   "id": "2dd63927",
   "metadata": {},
   "outputs": [],
   "source": [
    "# 数据格式转换（df--dict)\n",
    "def nodes_index_to_dict(ni, grid_x, grid_y):\n",
    "    nodes = {}\n",
    "    for i in range(len(ni)):\n",
    "        nodes[i] = (float(ni[i]%grid_x), float(int(ni[i]/grid_x)))\n",
    "    return nodes"
   ]
  },
  {
   "cell_type": "code",
   "execution_count": 5,
   "id": "19430e7c",
   "metadata": {},
   "outputs": [
    {
     "name": "stdout",
     "output_type": "stream",
     "text": [
      "{0: (3.0, 1.0), 1: (17.0, 2.0), 2: (3.0, 8.0), 3: (11.0, 1.0), 4: (10.0, 7.0), 5: (14.0, 5.0), 6: (10.0, 14.0), 7: (19.0, 14.0), 8: (12.0, 5.0), 9: (17.0, 11.0)}\n"
     ]
    }
   ],
   "source": [
    "nodes_dict = nodes_index_to_dict(nodes_index, 20, 20)\n",
    "print(nodes_dict)"
   ]
  },
  {
   "cell_type": "code",
   "execution_count": 6,
   "id": "d9410439",
   "metadata": {},
   "outputs": [],
   "source": [
    "cities = elkai.Coordinates2D(nodes_dict)\n",
    "solution = cities.solve_tsp()"
   ]
  },
  {
   "cell_type": "code",
   "execution_count": 7,
   "id": "147b8050",
   "metadata": {},
   "outputs": [
    {
     "data": {
      "text/plain": [
       "[0, 2, 6, 7, 9, 4, 8, 5, 1, 3, 0]"
      ]
     },
     "execution_count": 7,
     "metadata": {},
     "output_type": "execute_result"
    }
   ],
   "source": [
    "solution"
   ]
  },
  {
   "cell_type": "markdown",
   "id": "1637426a",
   "metadata": {},
   "source": [
    "## 1.4 目标值计算"
   ]
  },
  {
   "cell_type": "code",
   "execution_count": 8,
   "id": "a3eaab9e",
   "metadata": {},
   "outputs": [],
   "source": [
    "import math as m\n",
    "# 目标计算\n",
    "def obj_cal(s, nodes_dict):\n",
    "    obj = 0\n",
    "    node_1 = s[0]\n",
    "    for node_2 in s[1:]:\n",
    "        obj += m.sqrt((nodes_dict[node_1][0] - nodes_dict[node_2][0]) ** 2 + (nodes_dict[node_1][1] - nodes_dict[node_2][1]) ** 2)\n",
    "        node_1 = node_2\n",
    "    return obj"
   ]
  },
  {
   "cell_type": "code",
   "execution_count": 9,
   "id": "48874073",
   "metadata": {},
   "outputs": [],
   "source": [
    "obj = obj_cal(solution, nodes_dict)"
   ]
  },
  {
   "cell_type": "code",
   "execution_count": 10,
   "id": "aada7123",
   "metadata": {},
   "outputs": [
    {
     "data": {
      "text/plain": [
       "60.04118382321912"
      ]
     },
     "execution_count": 10,
     "metadata": {},
     "output_type": "execute_result"
    }
   ],
   "source": [
    "obj"
   ]
  },
  {
   "cell_type": "markdown",
   "id": "f1f127b2",
   "metadata": {},
   "source": [
    "## 1.5 可视化"
   ]
  },
  {
   "cell_type": "code",
   "execution_count": 11,
   "id": "ac5281ba",
   "metadata": {},
   "outputs": [],
   "source": [
    "# 可视化\n",
    "import matplotlib.pyplot as plt\n",
    "def show_figure(solution, nodes_dict):\n",
    "    xpoints, ypoints = [], []\n",
    "    for node in solution:\n",
    "        xpoints += [nodes_dict[node][0]]\n",
    "        ypoints += [nodes_dict[node][1]]\n",
    "        plt.text(xpoints[-1], ypoints[-1], node, fontsize=15)\n",
    "    plt.scatter(xpoints, ypoints)\n",
    "    plt.plot(xpoints, ypoints)"
   ]
  },
  {
   "cell_type": "code",
   "execution_count": 12,
   "id": "c363cbe1",
   "metadata": {},
   "outputs": [
    {
     "data": {
      "image/png": "[encoded data removed]",
      "text/plain": [
       "<Figure size 640x480 with 1 Axes>"
      ]
     },
     "metadata": {},
     "output_type": "display_data"
    }
   ],
   "source": [
    "show_figure(solution, nodes_dict)"
   ]
  },
  {
   "cell_type": "code",
   "execution_count": 14,
   "id": "44831cb9",
   "metadata": {},
   "outputs": [
    {
     "name": "stdout",
     "output_type": "stream",
     "text": [
      "{0: [2, 3, 4, 8, 5], 1: [5, 8, 3, 4, 9], 2: [0, 4, 6, 8, 3], 3: [8, 5, 1, 4, 0], 4: [8, 5, 3, 6, 2], 5: [8, 1, 4, 3, 9], 6: [4, 9, 7, 2, 8], 7: [9, 6, 5, 4, 8], 8: [5, 4, 3, 1, 9], 9: [7, 5, 6, 8, 4]}\n"
     ]
    }
   ],
   "source": [
    "index_knn = get_knn_feature(nodes_dict, M=5)\n",
    "print(index_knn)"
   ]
  },
  {
   "cell_type": "markdown",
   "id": "d25d39d0",
   "metadata": {},
   "source": [
    "# 2 数据准备"
   ]
  },
  {
   "cell_type": "code",
   "execution_count": null,
   "id": "4293ee4a",
   "metadata": {},
   "outputs": [],
   "source": [
    "import numpy as np\n",
    "data_read =np.load(f'../data/data_{n_node}_{grid_x}_{grid_y}.npy')\n",
    "num_sample = len(data_read)"
   ]
  },
  {
   "cell_type": "markdown",
   "id": "b258712f",
   "metadata": {},
   "source": [
    "# 3 网络搭建"
   ]
  },
  {
   "cell_type": "code",
   "execution_count": 42,
   "id": "f83d9b9d",
   "metadata": {},
   "outputs": [],
   "source": [
    "import torch\n",
    "import torch.nn as nn\n",
    "import torch.optim as optim\n",
    "import torch.nn.functional as F\n",
    "from torch.utils.data import DataLoader, TensorDataset"
   ]
  },
  {
   "cell_type": "code",
   "execution_count": 34,
   "id": "d36f6919",
   "metadata": {},
   "outputs": [],
   "source": [
    "X_train, X_test = graphs[:int(0.8 * num_sample), :, :, :], graphs[int(0.8 * num_sample):, :, :, :]\n",
    "X_train_knn, X_test_knn = knn_dm_flat[:int(0.8 * num_sample), :], knn_dm_flat[int(0.8 * num_sample):, :]\n",
    "y_train, y_test = labels[:int(0.8 * num_sample)], labels[int(0.8 * num_sample):]"
   ]
  },
  {
   "cell_type": "markdown",
   "id": "fd5e910a",
   "metadata": {},
   "source": [
    "## 3.1 CNN example"
   ]
  },
  {
   "cell_type": "code",
   "execution_count": 47,
   "id": "0ef694fd-d93c-4069-8744-e3aa5a86e7d0",
   "metadata": {},
   "outputs": [],
   "source": [
    "class RegressionCNN(nn.Module):\n",
    "    def __init__(self, height, width):\n",
    "        super(RegressionCNN, self).__init__()\n",
    "        self.conv1 = nn.Conv2d(1, 16, kernel_size=3, stride=1, padding=1)\n",
    "        self.relu1 = nn.ReLU()\n",
    "        self.pool1 = nn.MaxPool2d(kernel_size=2, stride=2)\n",
    "        self.conv2 = nn.Conv2d(16, 32, kernel_size=3, stride=1, padding=1)\n",
    "        self.relu2 = nn.ReLU()\n",
    "        self.pool2 = nn.MaxPool2d(kernel_size=2, stride=2)\n",
    "\n",
    "        # 动态计算全连接层输入\n",
    "        self.fc_input_dim = self.calculate_fc_input_dim(height, width)\n",
    "        self.fc1 = nn.Linear(self.fc_input_dim, 64)\n",
    "        self.relu3 = nn.ReLU()\n",
    "        self.fc2 = nn.Linear(64, 1)  # 输出一个连续值\n",
    "\n",
    "    def forward(self, x):\n",
    "        x = self.pool1(self.relu1(self.conv1(x)))\n",
    "        x = self.pool2(self.relu2(self.conv2(x)))\n",
    "        x = x.view(-1, self.fc_input_dim)  # 使用计算得到的维度\n",
    "        x = self.relu3(self.fc1(x))\n",
    "        x = self.fc2(x)\n",
    "        return x\n"
   ]
  },
  {
   "cell_type": "code",
   "execution_count": 35,
   "id": "02ed78b6-210a-454e-bbe5-7a8ba7288218",
   "metadata": {},
   "outputs": [],
   "source": [
    "X_train, X_test = kplusone_graphs[:int(0.8 * num_sample), :, :, :], kplusone_graphs[int(0.8 * num_sample):, :, :, :]\n",
    "y_train, y_test = labels[:int(0.8 * num_sample)], labels[int(0.8 * num_sample):]"
   ]
  },
  {
   "cell_type": "markdown",
   "id": "f7b00936-ca09-4a7b-bfa9-b0606144aae7",
   "metadata": {},
   "source": [
    "# TRAIN"
   ]
  },
  {
   "cell_type": "code",
   "execution_count": 121,
   "id": "c27e3e0a-afcf-4856-a372-949b69a48d32",
   "metadata": {},
   "outputs": [],
   "source": [
    "device = torch.device(\"cuda\" if torch.cuda.is_available() else \"cpu\")\n",
    "# 数据\n",
    "X_train = torch.tensor(X_train, dtype=torch.float64).to(device)\n",
    "y_train = torch.tensor(y_train, dtype=torch.float64).to(device)"
   ]
  },
  {
   "cell_type": "code",
   "execution_count": 122,
   "id": "ba11f7e0-25f9-49e4-8256-878d9c6dbf30",
   "metadata": {},
   "outputs": [
    {
     "data": {
      "text/plain": [
       "torch.Size([8080, 6, 100, 100])"
      ]
     },
     "execution_count": 122,
     "metadata": {},
     "output_type": "execute_result"
    }
   ],
   "source": [
    "X_train.shape"
   ]
  },
  {
   "cell_type": "code",
   "execution_count": 123,
   "id": "85fd9898-e629-4d3b-9913-f4f374389664",
   "metadata": {},
   "outputs": [],
   "source": [
    "loss_list = []\n",
    "# 创建数据加载器\n",
    "train_dataset = TensorDataset(X_train, y_train)\n",
    "train_loader = DataLoader(train_dataset, batch_size=64, shuffle=True)\n",
    "\n",
    "# 初始化模型、损失函数和优化器\n",
    "model = RegressionCNN(6, grid_x, grid_y, 1).to(device)\n",
    "\n",
    "criterion = nn.MSELoss()  # 均方误差损失，常用于回归问题\n",
    "optimizer = optim.Adam(model.parameters(), lr=0.001)"
   ]
  },
  {
   "cell_type": "code",
   "execution_count": 124,
   "id": "09eb528b-1220-4130-8857-72c37e3f99b4",
   "metadata": {},
   "outputs": [],
   "source": [
    "def train_kplusone_graphs(model, train_loader, criterion, optimizer, epochs=10):\n",
    "    loss_list = []\n",
    "    model.train()\n",
    "    for epoch in range(epochs):\n",
    "        total_loss = 0\n",
    "        for data, target in train_loader:\n",
    "            data, target = data.to(device).float(), target.to(device).float()\n",
    "            optimizer.zero_grad()\n",
    "            output = model(data)\n",
    "            loss = criterion(output, target)\n",
    "            loss.backward()\n",
    "            optimizer.step()\n",
    "            total_loss += loss.item()\n",
    "        average_loss = total_loss / len(train_loader)\n",
    "        print(f'Epoch {epoch+1}, Average Loss: {average_loss}')\n",
    "        loss_list.append(average_loss)\n",
    "\n",
    "    return loss_list\n"
   ]
  },
  {
   "cell_type": "code",
   "execution_count": 125,
   "id": "798dbf8c-50a7-496c-b05d-5357aaf39f10",
   "metadata": {},
   "outputs": [
    {
     "name": "stdout",
     "output_type": "stream",
     "text": [
      "Epoch 1, Average Loss: 25202.97101815291\n",
      "Epoch 2, Average Loss: 467.6874971164493\n",
      "Epoch 3, Average Loss: 376.9136655311885\n",
      "Epoch 4, Average Loss: 331.5039642814576\n",
      "Epoch 5, Average Loss: 221.19339469849595\n",
      "Epoch 6, Average Loss: 219.0015471450926\n",
      "Epoch 7, Average Loss: 246.12846386526513\n",
      "Epoch 8, Average Loss: 196.60338310181626\n",
      "Epoch 9, Average Loss: 225.3458805835153\n",
      "Epoch 10, Average Loss: 165.1689521609329\n"
     ]
    }
   ],
   "source": [
    "loss_list += train_kplusone_graphs(model, train_loader, criterion, optimizer)"
   ]
  },
  {
   "cell_type": "code",
   "execution_count": 135,
   "id": "0bd5f63c-82ed-4282-b061-cf1f4a3c2a63",
   "metadata": {},
   "outputs": [
    {
     "name": "stdout",
     "output_type": "stream",
     "text": [
      "Epoch 1, Average Loss: 157.77724847267933\n",
      "Epoch 2, Average Loss: 185.50458905077355\n",
      "Epoch 3, Average Loss: 173.5696474210484\n",
      "Epoch 4, Average Loss: 145.55053867129828\n",
      "Epoch 5, Average Loss: 140.93965869813454\n"
     ]
    }
   ],
   "source": [
    "loss_list += train_kplusone_graphs(model, train_loader, criterion, optimizer, 5)"
   ]
  },
  {
   "cell_type": "code",
   "execution_count": 143,
   "id": "6722384e-8227-4c3d-9a9e-c317b061bb4e",
   "metadata": {},
   "outputs": [
    {
     "name": "stdout",
     "output_type": "stream",
     "text": [
      "Epoch 1, Average Loss: 137.88263840562715\n",
      "Epoch 2, Average Loss: 146.90701873659148\n",
      "Epoch 3, Average Loss: 134.99143468301128\n",
      "Epoch 4, Average Loss: 126.80040386530358\n",
      "Epoch 5, Average Loss: 134.67657287477508\n"
     ]
    }
   ],
   "source": [
    "loss_list += train_kplusone_graphs(model, train_loader, criterion, optimizer, 5)"
   ]
  },
  {
   "cell_type": "markdown",
   "id": "dc22ff7c-123d-435a-ba6e-b7ad4b1b43dd",
   "metadata": {},
   "source": [
    "# TEST"
   ]
  },
  {
   "cell_type": "code",
   "execution_count": 126,
   "id": "d1e49d9d-d49d-4308-b455-88178fbc146a",
   "metadata": {},
   "outputs": [],
   "source": [
    "# 测试数据\n",
    "X_test = torch.tensor(X_test, dtype=torch.float32).to(device)\n",
    "# X_test_knn = torch.tensor(X_test_knn, dtype=torch.float32).to(device)\n",
    "y_test = torch.tensor(y_test, dtype=torch.float32).to(device)\n",
    "test_dataset = TensorDataset(X_test, y_test)\n",
    "# test_dataset = TensorDataset(X_test, X_test_knn, y_test)\n",
    "test_loader = DataLoader(test_dataset, batch_size=64, shuffle=True)\n"
   ]
  },
  {
   "cell_type": "code",
   "execution_count": 144,
   "id": "873d2946-074d-48cd-ad44-56e4d7faa66c",
   "metadata": {},
   "outputs": [
    {
     "name": "stdout",
     "output_type": "stream",
     "text": [
      "Test Loss: 159.4968638420105\n"
     ]
    }
   ],
   "source": [
    "# 测试模型\n",
    "test(model, test_loader, criterion)\n",
    "# test_multi_mode(model, test_loader, criterion)"
   ]
  },
  {
   "cell_type": "code",
   "execution_count": 145,
   "id": "8da32dce",
   "metadata": {},
   "outputs": [
    {
     "name": "stdout",
     "output_type": "stream",
     "text": [
      "Test gap: 0.015146883204579353\n",
      "max gap: 0.1131528839468956\n",
      "min gap: 1.1059408279834315e-05\n"
     ]
    }
   ],
   "source": [
    "split_test = 2000\n",
    "test_num_sample = len(y_test)\n",
    "t_nn_1 = time.time()\n",
    "with torch.no_grad():\n",
    "    start = 0\n",
    "    end = split_test\n",
    "    test_output_y = []\n",
    "    while True:\n",
    "        test_output_y_i = model(X_test[start:end,:,:, :])\n",
    "        test_output_y.append(test_output_y_i)\n",
    "        if end >= test_num_sample:\n",
    "            break\n",
    "        end += split_test\n",
    "        start += split_test\n",
    "        end = min(end, test_num_sample)\n",
    "test_output_y = torch.cat(test_output_y, dim=0).to(device)\n",
    "t_nn_2 = time.time()\n",
    "# 计算绝对差值向量\n",
    "abs_diff = torch.abs(test_output_y - y_test)\n",
    "# 将差值向量除以第一个向量\n",
    "result = abs_diff / y_test\n",
    "# 求平均值\n",
    "average_result = torch.mean(result)\n",
    "\n",
    "print(\"Test gap:\", average_result.item())\n",
    "print(\"max gap:\", result.max().item())\n",
    "print(\"min gap:\", result.min().item())"
   ]
  },
  {
   "cell_type": "markdown",
   "id": "9af39bed",
   "metadata": {},
   "source": [
    "# 7 save"
   ]
  },
  {
   "cell_type": "code",
   "execution_count": 150,
   "id": "627dadd6",
   "metadata": {},
   "outputs": [],
   "source": [
    "from datetime import datetime\n",
    "# 获取当前日期和时间\n",
    "current_datetime = datetime.now()\n",
    "# 格式化输出，仅保留月和日\n",
    "formatted_date = current_datetime.strftime(\"%m%d\")\n",
    "# 保存模型状态字典\n",
    "# torch.save(model, f'{model.__class__.__name__}_{formatted_date}_{n_node}_{grid_x}_{grid_y}.pth')\n",
    "torch.save(model, f'{model.__class__.__name__}_{formatted_date}_{n_range[0]}_{n_range[1]}_{grid_x}_{grid_y}_rc-2.pth')\n",
    "\n",
    "# # 直接加载整个模型\n",
    "# model = torch.load('path_to_save.pth')"
   ]
  },
  {
   "cell_type": "code",
   "execution_count": 76,
   "id": "32f3faa8-4a5a-4292-b195-7e20838f2481",
   "metadata": {},
   "outputs": [
    {
     "name": "stdout",
     "output_type": "stream",
     "text": [
      "Serving 'EnhancedCNN_Mplus_0527_16-25_100_100.pth' at http://localhost:8080\n"
     ]
    },
    {
     "data": {
      "text/plain": [
       "('localhost', 8080)"
      ]
     },
     "execution_count": 76,
     "metadata": {},
     "output_type": "execute_result"
    }
   ],
   "source": [
    "import netron\n",
    "modelPath = \"EnhancedCNN_Mplus_0527_16-25_100_100.pth\"\n",
    "netron.start(modelPath)"
   ]
  },
  {
   "cell_type": "code",
   "execution_count": null,
   "id": "23493544",
   "metadata": {},
   "outputs": [],
   "source": []
  }
 ],
 "metadata": {
  "kernelspec": {
   "display_name": "Python [conda env:ml_torch]",
   "language": "python",
   "name": "conda-env-ml_torch-py"
  },
  "language_info": {
   "codemirror_mode": {
    "name": "ipython",
    "version": 3
   },
   "file_extension": ".py",
   "mimetype": "text/x-python",
   "name": "python",
   "nbconvert_exporter": "python",
   "pygments_lexer": "ipython3",
   "version": "3.10.11"
  }
 },
 "nbformat": 4,
 "nbformat_minor": 5
}
